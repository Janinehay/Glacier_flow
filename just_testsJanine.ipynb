{
 "cells": [
  {
   "cell_type": "code",
   "execution_count": 1,
   "metadata": {},
   "outputs": [
    {
     "name": "stderr",
     "output_type": "stream",
     "text": [
      "2023-01-10 16:08:58: oggm.cfg: Reading default parameters from the OGGM `params.cfg` configuration file.\n",
      "2023-01-10 16:08:58: oggm.cfg: Multiprocessing switched OFF according to the parameter file.\n",
      "2023-01-10 16:08:58: oggm.cfg: Multiprocessing: using all available processors (N=16)\n"
     ]
    }
   ],
   "source": [
    "import cProfile\n",
    "from mpl_toolkits import mplot3d\n",
    "import scipy.spatial\n",
    "import numpy as np\n",
    "import matplotlib.pyplot as plt\n",
    "from functools import partial\n",
    "import copy\n",
    "\n",
    "# Local imports\n",
    "import oggm\n",
    "from oggm.core.massbalance import LinearMassBalance, ScalarMassBalance\n",
    "from oggm.core.inversion import find_sia_flux_from_thickness\n",
    "from oggm import utils, cfg\n",
    "from oggm.cfg import SEC_IN_DAY, SEC_IN_YEAR\n",
    "from oggm.core.sia2d import Upstream2D\n",
    "from oggm.exceptions import InvalidParamsError\n",
    "cfg.initialize(logging_level='WARNING')\n",
    "\n",
    "# Tests\n",
    "from oggm.tests.funcs import (dummy_bumpy_bed, dummy_constant_bed,\n",
    "                              dummy_constant_bed_cliff,\n",
    "                              dummy_mixed_bed, dummy_constant_bed_obstacle,\n",
    "                              dummy_noisy_bed, dummy_parabolic_bed,\n",
    "                              dummy_trapezoidal_bed, dummy_width_bed,\n",
    "                              dummy_width_bed_tributary, bu_tidewater_bed,\n",
    "                              dummy_bed_tributary_tail_to_head)\n",
    "\n",
    "# after oggm.test\n",
    "import matplotlib.pyplot as plt\n",
    "\n",
    "from oggm.core.flowline import (KarthausModel, FluxBasedModel,\n",
    "                                MassRedistributionCurveModel,\n",
    "                                MassConservationChecker)\n",
    "from oggm.tests.ext.sia_fluxlim import MUSCLSuperBeeModel\n",
    "\n",
    "#from oggm.core.sia2d import(Model2D, Upstream2D)\n",
    "\n",
    "FluxBasedModel = partial(FluxBasedModel, inplace=True)\n",
    "KarthausModel = partial(KarthausModel, inplace=True)\n",
    "MUSCLSuperBeeModel = partial(MUSCLSuperBeeModel, inplace=True)"
   ]
  },
  {
   "cell_type": "code",
   "execution_count": 2,
   "metadata": {},
   "outputs": [],
   "source": [
    "yr_start = 0.0 #start year 0\n",
    "num_yrs = 10\n",
    "yrs = np.arange(1, num_yrs+1)"
   ]
  },
  {
   "cell_type": "markdown",
   "metadata": {},
   "source": [
    "We then select a bed shape, currently the only bedshapes that are sorta working are Rectangle and Cliff. To select a bed shape change the variable from 0 to 1. Only one bed shape may be selected at a given time"
   ]
  },
  {
   "cell_type": "code",
   "execution_count": 3,
   "metadata": {},
   "outputs": [],
   "source": [
    "#Pick Bed Shape\n",
    "#decide which version of the OGGM code we are going to match\n",
    "match_OGGM = \"basic\" #options are basic or production\n",
    "\n",
    "#Decide bed shape\n",
    "bed_shape = \"trapezoid\" #options are rectangle, trapezoid, parabolic, and cliff"
   ]
  },
  {
   "cell_type": "markdown",
   "metadata": {},
   "source": [
    "then we set the glacier size"
   ]
  },
  {
   "cell_type": "code",
   "execution_count": 4,
   "metadata": {},
   "outputs": [],
   "source": [
    "# Bed shape, can change these\n",
    "max_elev = 3000. # default 3000m\n",
    "min_elev = 1000. # default 1000m\n",
    "Nx = 200         # default 200\n",
    "dx = 100         # DEM grid spacing in meters down glacier, default 100m\n",
    "\n",
    "# only bed_shape==\"rectangle\" uses the_wid as an input (default 300 m)\n",
    "the_wid = 200 # can change (m)\n",
    "\n",
    "# Can change these and input to OGGM\n",
    "if bed_shape == \"cliff\"    : \n",
    "    cliff_hgt = 250. # cliff drop default 250m \n",
    "    if match_OGGM==\"basic\" or match_OGGM==\"production\": the_wid = dx   # this is not changeable in OGGM dummy model\n",
    "if bed_shape == \"parabolic\": shape = 5.e-3    # parabola shape, default 5.e-3 which is flattish, if use 5.e3 very curved\n",
    "if bed_shape == \"trapezoid\": \n",
    "    lambdas = .1     # default 2, or atan(2/lambdas)=angle of side wall from horizontal, 2 is 45 deg, 1 is steeper\n",
    "    bot_wid = 160    # bottom width of trapezoid (m)\n",
    "    if match_OGGM==\"basic\" or match_OGGM==\"production\":\n",
    "        the_wid = dx   # this is not changeable in OGGM dummy model\n",
    "        bot_wid = 160. # this is not changeable in OGGM dummy model\n",
    "    \n",
    "#DEM grid spacing in meters across glacier, OGGM uses same dx as dy\n",
    "dy = 20.\n",
    "if match_OGGM==\"basic\" or match_OGGM==\"production\": dy = dx \n",
    "dxdy=dx*dy\n",
    "x = np.arange(0.5, Nx + 0.5, 1)*dx\n",
    "dist = x\n",
    "x_m = Nx*dx # max length of the glacier\n",
    "y_m = the_wid #width of the glacier\n",
    "\n",
    "bed_h = np.linspace(max_elev,min_elev,Nx)\n",
    "\n",
    "slope_h = np.linspace(max_elev,min_elev,Nx) #elevation[m] of constant slope bedrock at the flowline grid points\n",
    "bed_h1=slope_h\n",
    "\n",
    "# dx = 100. #DEM grid spacing in meters down glacier\n",
    "# dy = 100. #DEM grid spacing in meters across glacier\n",
    "# dxdy=dx*dy\n",
    "# max_elev = 3000.\n",
    "# min_elev = 1000.\n",
    "# Nx = 200\n",
    "# x = np.arange(0.5, Nx + 0.5, 1)*dx\n",
    "# dist = x\n",
    "# # Width fixed in OGGM, but changes depending on bed shape\n",
    "# if use_rectangle == 1: the_wid = 100. # this is changeable in OGGM, default 300 m    \n",
    "# if use_cliff     == 1: cliff_hgt=250. # default 250m\n",
    "# if use_parabolic == 1: shape=5.e3    # default 5.e-3 which is flat to eye, if use 5.e3 it's very curved\n",
    "# if use_trapezoid == 1: lambdas=2      # default 2\n",
    "    \n",
    "# # THESE SHOULD NOT BE CHANGED, fixed in OGGM\n",
    "# if use_cliff     == 1: the_wid = 100. #this is not changeable in OGGM\n",
    "# if use_parabolic == 1: the_wid = 100. #this is not changeable in OGGM, max width of glacier\n",
    "# if use_trapezoid == 1: the_wid = 100. #this is not changeable in OGGM, max width of glacier\n",
    "    \n",
    "# x_m = Nx*dx # max length of the glacier\n",
    "# y_m = the_wid #width of the glacier\n",
    "\n",
    "# bed_h = np.linspace(max_elev,min_elev,Nx) #elevation[m] of the bedrock at the flowline grid points\n",
    "# #surface_h = bed_h+100. #elevation [m] of the flowline grid points\n",
    "\n",
    "# # do not need this if we take values from OGGM, otherwise initialize\n",
    "# slope_h = np.linspace(max_elev,min_elev,Nx) #elevation[m] of constant slope bedrock at the flowline grid points\n",
    "# bed_h1 = slope_h\n",
    "\n",
    "# #for use_trapazoid\n",
    "gam = 2\n",
    "if gam == 2:\n",
    "    theta = 45\n",
    "slope_elevation = (max_elev-min_elev)/(x_m)"
   ]
  },
  {
   "cell_type": "markdown",
   "metadata": {},
   "source": [
    "Then we set the glacier ELA and the rate the mass balance changes"
   ]
  },
  {
   "cell_type": "code",
   "execution_count": 5,
   "metadata": {},
   "outputs": [],
   "source": [
    "ELA = 2600. #2800. #ELA (m)\n",
    "mdot_grad = 20. #mbgradient (mm/yr/m, default=3.)\n",
    "mdot_con = 3. #mb (mm/yr)"
   ]
  },
  {
   "cell_type": "markdown",
   "metadata": {},
   "source": [
    "we then define the constants for the glacier code"
   ]
  },
  {
   "cell_type": "code",
   "execution_count": 6,
   "metadata": {},
   "outputs": [],
   "source": [
    "A = cfg.PARAMS['glen_a'] # Modern style Glen parameter A 2.4e-24\n",
    "n = cfg.PARAMS['glen_n'] # 3.0\n",
    "g = 9.81 #m/s^2\n",
    "rho = cfg.PARAMS['ice_density'] # 900.0kg/m^3\n",
    "Gamma = 2.0*A*(rho*g)**n/(n+2)\n",
    "cfl = 0.124\n",
    "cfl_number = cfg.PARAMS['cfl_number'] #CFL criterion (dt = cfl_number * dx / max_u"
   ]
  },
  {
   "cell_type": "markdown",
   "metadata": {},
   "source": [
    "We then set the timesteps"
   ]
  },
  {
   "cell_type": "code",
   "execution_count": 7,
   "metadata": {},
   "outputs": [],
   "source": [
    "# prevent adaptive time-stepping\n",
    "max_dt = 31*SEC_IN_DAY #max timestep in seconds\n",
    "fixed_dt_use = None # 10 * SEC_IN_DAY   #parabolic and constant works\n",
    "if bed_shape == \"cliff\": fixed_dt_use = 2 * SEC_IN_DAY   #need for cliff"
   ]
  },
  {
   "cell_type": "markdown",
   "metadata": {},
   "source": [
    "We then set the numerical method we want to use for the differential equation and which shallow ice solving method we will me using minmod and superbee are only relevant if sunning MUSCL"
   ]
  },
  {
   "cell_type": "code",
   "execution_count": 8,
   "metadata": {},
   "outputs": [],
   "source": [
    "# numberical Methods\n",
    "use_E = 0 #Euler\n",
    "use_TVD = 1 #TVD runge Kutta Method\n",
    "use_nTVD = 0 #Non TVD Runge Kutta Method\n",
    "\n",
    "#shallow ice solving method\n",
    "use_MUSCL = 1\n",
    "use_upstream = 1\n",
    "\n",
    "#\n",
    "use_minmod = 0 #minmod function\n",
    "use_superbee = 1 #superbee function\n",
    "\n",
    "use_base = 1\n",
    "use_production = 0"
   ]
  },
  {
   "cell_type": "markdown",
   "metadata": {},
   "source": [
    "we then decide what mass balance equations we are going to be using for the model"
   ]
  },
  {
   "cell_type": "code",
   "execution_count": 9,
   "metadata": {},
   "outputs": [],
   "source": [
    "#Pick Mass Balance equation\n",
    "use_steadystate = 0\n",
    "use_Scalar = 1\n",
    "use_linear = 1"
   ]
  },
  {
   "cell_type": "markdown",
   "metadata": {},
   "source": [
    "The model and beds are then defined for OGGM"
   ]
  },
  {
   "cell_type": "code",
   "execution_count": 10,
   "metadata": {},
   "outputs": [],
   "source": [
    "# define model and beds\n",
    "if use_production == 1:\n",
    "    models = [FluxBasedModel,MUSCLSuperBeeModel]\n",
    "    mymodels=[\"Flux Based\",\"MUSCL SB\"]\n",
    "\n",
    "if use_base == 1:\n",
    "    models = [Upstream2D]\n",
    "    mymodels=[\"Upstream 2D\"]\n",
    "\n",
    "\n",
    "# Karthaus does not work unless constant bed\n",
    "if (bed_shape == \"parabolic\" or \"trapezoid\") and mymodels[0]==\"Karthaus\":\n",
    "    models = models[1:]\n",
    "    mymodels=mymodels[1:]\n",
    "\n",
    "# define model and beds\n",
    "if bed_shape == \"rectangle\": modelnames=[\"OGGM \" + s+ \" Constant Bed\" for s in mymodels]\n",
    "if bed_shape == \"cliff\": modelnames=[\"OGGM \" + s+ \" Constant Bed Cliff\" for s in mymodels]\n",
    "if bed_shape == \"parabolic\": modelname=[\"OGGM \" + s+ \" Parabolic Bed\" for s in mymodels]\n",
    "if bed_shape == \"trapezoid\": modelnames=[\"OGGM \" + s+ \" Trapezoidal Bed\" for s in mymodels]"
   ]
  },
  {
   "cell_type": "markdown",
   "metadata": {},
   "source": [
    "reset function"
   ]
  },
  {
   "cell_type": "code",
   "execution_count": 11,
   "metadata": {},
   "outputs": [],
   "source": [
    "def reset(bed_shape):\n",
    "    if bed_shape == \"rectangle\": fls = dummy_constant_bed(hmax=max_elev, hmin=min_elev, nx=Nx, map_dx=dx,widths=the_wid/100.)\n",
    "    if bed_shape == \"cliff\": fls = dummy_constant_bed_cliff(hmax=max_elev, hmin=min_elev, nx=Nx, map_dx=dx,cliff_height=cliff_hgt)\n",
    "    if bed_shape == \"parabolic\": fls = dummy_parabolic_bed(hmax=max_elev, hmin=min_elev, nx=Nx, map_dx=dx,default_shape=shape,from_other_shape=None, from_other_bed=None)\n",
    "    if bed_shape == \"trapezoid\": fls = dummy_trapezoidal_bed(hmax=max_elev, hmin=min_elev, nx=Nx, map_dx=dx,def_lambdas=lambdas)\n",
    "    return fls"
   ]
  },
  {
   "cell_type": "markdown",
   "metadata": {},
   "source": [
    "Bed test function"
   ]
  },
  {
   "cell_type": "code",
   "execution_count": 12,
   "metadata": {},
   "outputs": [],
   "source": [
    "def test_bed(glen_a, yrs, models, mb0):\n",
    "    lens = []\n",
    "    volume = []\n",
    "    areas = []\n",
    "    surface_h = []\n",
    "    widths = []\n",
    "    \n",
    "    mb = mb0\n",
    "    \n",
    "    fls = reset(bed_shape)\n",
    "    \n",
    "    if use_base ==1:\n",
    "        length = yrs * 0.\n",
    "        vol = yrs * 0.\n",
    "        area = yrs * 0\n",
    "        \n",
    "        for model in models:\n",
    "            model = model(B, dx=dx, mb_model=mb, y0=yr_start,\n",
    "                          ice_thick_filter= None)\n",
    "            for i, y in enumerate(yrs):\n",
    "                model.run_until(y)\n",
    "                assert model.yr == y\n",
    "                surf_1d = model.ice_thick[Mny]\n",
    "                length[i] = np.sum(surf_1d > 0) * model.dx\n",
    "                vol[i] = model.volume_km3# / 3\n",
    "                area[i] = model.area_km2# / 3\n",
    "\n",
    "            lens.append(length)\n",
    "            volume.append(vol)\n",
    "            areas.append(area)\n",
    "            surface_h.append(model.surface_h[Mny])\n",
    "        \n",
    "    \n",
    "            \n",
    "    if use_production ==1:\n",
    "        length = yrs * 0.\n",
    "        vol = yrs * 0.\n",
    "        area = yrs * 0\n",
    "        \n",
    "        for model in models:\n",
    "            model = model(fls, mb_model=mb, glen_a=glen_a,y0 = yr_start,\n",
    "                       fixed_dt=None)\n",
    "                \n",
    "            for i, y in enumerate(yrs):\n",
    "                model.run_until(y)\n",
    "                assert model.yr == y\n",
    "                length[i] = fls[-1].length_m\n",
    "                vol[i] = fls[-1].volume_km3\n",
    "                area[i] = fls[-1].area_km2\n",
    "\n",
    "            lens.append(length)\n",
    "            volume.append(vol)\n",
    "            areas.append(area)\n",
    "            surface_h.append(fls[-1].surface_h.copy())\n",
    "            \n",
    "    bed_h = fls[-1].bed_h\n",
    "        \n",
    "    return(lens, volume, surface_h, widths, bed_h)"
   ]
  },
  {
   "cell_type": "code",
   "execution_count": null,
   "metadata": {},
   "outputs": [],
   "source": []
  },
  {
   "cell_type": "markdown",
   "metadata": {},
   "source": [
    "Calculating the mass balance from the OGGM model"
   ]
  },
  {
   "cell_type": "code",
   "execution_count": 13,
   "metadata": {},
   "outputs": [],
   "source": [
    "Ny = int(the_wid/dy)\n",
    "y = np.arange(0.5, Ny+0.5, 1)*dy\n",
    "B = np.zeros((Ny,Nx))\n",
    "#x0 = bed_h\n",
    "\n",
    "if bed_shape == \"rectangle\":\n",
    "    for yd in range(Ny):\n",
    "        for xd in range(Nx):\n",
    "            B[yd][xd] = bed_h1[xd]\n",
    "    Mny = int((Ny+1.)/2.) #if odd Ny, this will be center FD coordinate, otherwise will not be center\n",
    "            \n",
    "if bed_shape == \"trapezoid\":\n",
    "    w0 = y_m-2*10 #10 isn't right need to fix\n",
    "    for yd in range(Ny):\n",
    "        for xd in range(Nx):\n",
    "            if y[yd] <= (y_m-w0)/gam:\n",
    "                base = (y_m-w0)/gam-y[yd]\n",
    "                B[yd][xd] = base*np.tan(theta) #-(slope_elevation)*x[xd]+max_elev\n",
    "            if y[yd] >= (y_m-w0)/gam+w0:\n",
    "                base = y[yd]-(y_m-w0)/gam-w0\n",
    "                B[yd][xd] = base*np.tan(theta) #-(slope_elevation)*x[xd]+max_elev\n",
    "            B[yd][xd] = B[yd][xd]-(slope_elevation)*x[xd]+max_elev\n",
    "    Mny = int((Ny+1.)/2.) #if odd Ny, this will be center FD coordinate, otherwise will not be center\n",
    "    \n",
    "if bed_shape == \"parabolic\":\n",
    "    for yd in range(Ny):\n",
    "        base = abs(y[yd] - the_wid/2.)\n",
    "        for xd in range(Nx):\n",
    "             B[yd][xd] = shape*(base**2.) + slope_h[xd]  \n",
    "    Mny = int((Ny+1.)/2.)\n",
    "    \n",
    "#add a cliff\n",
    "if bed_shape == \"cliff\":\n",
    "    for yd in range(Ny):\n",
    "        for xd in range(Nx):\n",
    "            B[yd][xd] = bed_h1[xd]\n",
    "    Mny = int((Ny+1.)/2.) #if odd Ny, this will be center FD coordinate, otherwise will not be center \n",
    "                \n",
    "#By,Bx= np.meshgrid(y,x, indexing = 'ij') #2D array of bed size/shape\n",
    "#ax = plt.axes(projection='3d')\n",
    "#ax.plot_surface(Bx, By, B, linewidths=1.0)"
   ]
  },
  {
   "cell_type": "code",
   "execution_count": 14,
   "metadata": {},
   "outputs": [],
   "source": [
    "def width_m(H):\n",
    "    #compute the widths out of H and the bed shape\n",
    "    if bed_shape == \"rectangle\" or \"cliff\":\n",
    "        wid = the_wid + H*0.\n",
    "    if bed_shape == \"parabolic\":\n",
    "        wid = np.sqrt(4*H/shape)\n",
    "    if bed_shape == \"trapezoid\":\n",
    "        w0_m=dx-lambdas*H\n",
    "        wid = w0_m + lambdas+H\n",
    "    return wid\n",
    "def volume_km3(H):\n",
    "    if bed_shape == \"rectangle\" or \"cliff\":\n",
    "        vol3 = np.sum(H*dxdy)*1e-9\n",
    "    if bed_shape == \"parabolic\":\n",
    "        vol3 = -999 #CALCULATE\n",
    "    if bed_shape == \"trapezoid\":\n",
    "        vol3 = -999 #CALCULATE        \n",
    "    return vol3\n",
    "def length_m(H):\n",
    "    Dif = np.nonzero(H)\n",
    "    length=x[Dif[0][-1]]+dx/2\n",
    "    return length"
   ]
  },
  {
   "cell_type": "markdown",
   "metadata": {},
   "source": [
    "We start my importing the OGGM code as well as and of the Python packages needed to make my code run"
   ]
  },
  {
   "cell_type": "code",
   "execution_count": 15,
   "metadata": {},
   "outputs": [
    {
     "name": "stdout",
     "output_type": "stream",
     "text": [
      "Scalar\n"
     ]
    },
    {
     "ename": "IndexError",
     "evalue": "index 1 is out of bounds for axis 0 with size 1",
     "output_type": "error",
     "traceback": [
      "\u001b[0;31m---------------------------------------------------------------------------\u001b[0m",
      "\u001b[0;31mIndexError\u001b[0m                                Traceback (most recent call last)",
      "Input \u001b[0;32mIn [15]\u001b[0m, in \u001b[0;36m<cell line: 1>\u001b[0;34m()\u001b[0m\n\u001b[1;32m      3\u001b[0m     mb \u001b[38;5;241m=\u001b[39m ScalarMassBalance(mdot_con)\n\u001b[1;32m      4\u001b[0m     file \u001b[38;5;241m=\u001b[39m \u001b[38;5;124m'\u001b[39m\u001b[38;5;124mtest_bed_scalar\u001b[39m\u001b[38;5;124m'\u001b[39m \u001b[38;5;66;03m#to save\u001b[39;00m\n\u001b[0;32m----> 5\u001b[0m     lens1, volume1, surface_h1, widths1, bed_h1 \u001b[38;5;241m=\u001b[39m \u001b[43mtest_bed\u001b[49m\u001b[43m(\u001b[49m\u001b[43mA\u001b[49m\u001b[43m,\u001b[49m\u001b[43myrs\u001b[49m\u001b[43m,\u001b[49m\u001b[43mmodels\u001b[49m\u001b[43m,\u001b[49m\u001b[43mmb\u001b[49m\u001b[43m)\u001b[49m\n\u001b[1;32m      6\u001b[0m     np\u001b[38;5;241m.\u001b[39msavez(file, lens\u001b[38;5;241m=\u001b[39mlens1,volume\u001b[38;5;241m=\u001b[39mvolume1,surface_h\u001b[38;5;241m=\u001b[39msurface_h1,widths\u001b[38;5;241m=\u001b[39mwidths1,bed_h\u001b[38;5;241m=\u001b[39mbed_h1) \n\u001b[1;32m      7\u001b[0m \u001b[38;5;28;01mif\u001b[39;00m use_linear\u001b[38;5;241m==\u001b[39m\u001b[38;5;241m1\u001b[39m: \u001b[38;5;66;03m#  input is ELA (m, required), gradient (mm/yr/m, default=3.), max mb cap (mm/yr, default=none)\u001b[39;00m\n",
      "Input \u001b[0;32mIn [12]\u001b[0m, in \u001b[0;36mtest_bed\u001b[0;34m(glen_a, yrs, models, mb0)\u001b[0m\n\u001b[1;32m     21\u001b[0m model\u001b[38;5;241m.\u001b[39mrun_until(y)\n\u001b[1;32m     22\u001b[0m \u001b[38;5;28;01massert\u001b[39;00m model\u001b[38;5;241m.\u001b[39myr \u001b[38;5;241m==\u001b[39m y\n\u001b[0;32m---> 23\u001b[0m surf_1d \u001b[38;5;241m=\u001b[39m \u001b[43mmodel\u001b[49m\u001b[38;5;241;43m.\u001b[39;49m\u001b[43mice_thick\u001b[49m\u001b[43m[\u001b[49m\u001b[43mMny\u001b[49m\u001b[43m]\u001b[49m\n\u001b[1;32m     24\u001b[0m length[i] \u001b[38;5;241m=\u001b[39m np\u001b[38;5;241m.\u001b[39msum(surf_1d \u001b[38;5;241m>\u001b[39m \u001b[38;5;241m0\u001b[39m) \u001b[38;5;241m*\u001b[39m model\u001b[38;5;241m.\u001b[39mdx\n\u001b[1;32m     25\u001b[0m vol[i] \u001b[38;5;241m=\u001b[39m model\u001b[38;5;241m.\u001b[39mvolume_km3\u001b[38;5;66;03m# / 3\u001b[39;00m\n",
      "\u001b[0;31mIndexError\u001b[0m: index 1 is out of bounds for axis 0 with size 1"
     ]
    }
   ],
   "source": [
    "if use_Scalar==1: #  input is mb (mm/yr, default =0) if you make this too positive it will grow out of domain boundaries (- or +10. is okay)\n",
    "    print(\"Scalar\")\n",
    "    mb = ScalarMassBalance(mdot_con)\n",
    "    file = 'test_bed_scalar' #to save\n",
    "    lens1, volume1, surface_h1, widths1, bed_h1 = test_bed(A,yrs,models,mb)\n",
    "    np.savez(file, lens=lens1,volume=volume1,surface_h=surface_h1,widths=widths1,bed_h=bed_h1) \n",
    "if use_linear==1: #  input is ELA (m, required), gradient (mm/yr/m, default=3.), max mb cap (mm/yr, default=none)\n",
    "    print(\"linear\")\n",
    "    mb = LinearMassBalance(ELA,mdot_grad)\n",
    "    file = 'test_bed_linear' #to save\n",
    "    fls = reset(bed_shape)\n",
    "    lens1, volume1, surface_h1, widths1, bed_h1 = test_bed(A,yrs,models,mb)\n",
    "    np.savez(file, lens=lens1,volume=volume1,surface_h=surface_h1,widths=widths1,bed_h=bed_h1)"
   ]
  },
  {
   "cell_type": "markdown",
   "metadata": {},
   "source": [
    "Next we select the number of years we want to run over, OGGM will not run for more that 700 years"
   ]
  },
  {
   "cell_type": "markdown",
   "metadata": {},
   "source": [
    "The flux equation, called the both the UPSTREAM and MUSCL solving methods"
   ]
  },
  {
   "cell_type": "code",
   "execution_count": null,
   "metadata": {},
   "outputs": [],
   "source": [
    "# flux\n",
    "def flux(sjpl, sjml, sjplp, sjmlp, sjlp, sjl, dj, dl):\n",
    "    flux = (((((sjpl-sjml)+sjplp-sjmlp)**2.) / (4*dj)**2.)+(sjlp-sjl)**2./dl**2 )**((n-1.)/2.)\n",
    "    return flux"
   ]
  },
  {
   "cell_type": "markdown",
   "metadata": {},
   "source": [
    "midmod/superbee equations Currently you have to change the way the MUSCl code is written to use Minmod"
   ]
  },
  {
   "cell_type": "code",
   "execution_count": null,
   "metadata": {},
   "outputs": [],
   "source": [
    "# standard minmod functioin\n",
    "def minmod(a,b):\n",
    "    sign = (np.sign(a)+np.sign(b))\n",
    "    minmod = sign/2*(np.minimum(np.abs(a), np.abs(b)))\n",
    "    return minmod\n",
    "\n",
    "def superbee(r):\n",
    "    #r = (H-Hm)/(Hp-H) #gives divide by 0 errors, makes sense when the height of the glacier is 0\n",
    "    superbee =np.maximum(0,np.minimum(2.*r,1), np.minimum(r,2.)) \n",
    "    return superbee"
   ]
  },
  {
   "cell_type": "markdown",
   "metadata": {},
   "source": [
    "The Shallow Ice approximation, the equation is Equation 36 from Jarosch 2013, finds the div in both MUSCL and UPSTREAM"
   ]
  },
  {
   "cell_type": "code",
   "execution_count": null,
   "metadata": {},
   "outputs": [],
   "source": [
    "# Shallow Ice approximation\n",
    "def SIA(Dup, Sup, S, Ddn, Sdn, d):\n",
    "    SIA=((Dup * (Sup - S))/d - (Ddn * (S - Sdn))/d)/d #equation 36 Jarosh 2013\n",
    "    return SIA"
   ]
  },
  {
   "cell_type": "markdown",
   "metadata": {},
   "source": [
    "The Indexing equations"
   ]
  },
  {
   "cell_type": "code",
   "execution_count": null,
   "metadata": {},
   "outputs": [],
   "source": [
    "# index\n",
    "def H_index(h1, h2):\n",
    "    H_index = 0.5*(h1+h2)\n",
    "    return H_index\n",
    "\n",
    "# H up index\n",
    "def H_plus(Hm, H, Hp):\n",
    "    if use_minmod == 1:\n",
    "        H_plus = H - 0.5*minmod((H-Hm),(Hp-H))*(Hp-H)\n",
    "    if use_superbee == 1:\n",
    "        H_plus=H*0\n",
    "        H_plus[Hp!=H] = (H - 0.5*superbee((H-Hm)/(Hp-H))*(Hp-H))[Hp!=H]\n",
    "    return H_plus\n",
    "\n",
    "# H down index\n",
    "def H_min(Hm, H, Hp):\n",
    "    if use_minmod == 1:\n",
    "        H_min = H + 0.5*minmod((H-Hm),(Hp-H))*(Hp-H)\n",
    "    if use_superbee == 1:\n",
    "        H_min=H*0\n",
    "        H_min[Hp!=H] = (H + 0.5*superbee((H-Hm)/(Hp-H))*(Hp-H))[Hp!=H]\n",
    "    return H_min   "
   ]
  },
  {
   "cell_type": "markdown",
   "metadata": {},
   "source": [
    "The differential solving methods"
   ]
  },
  {
   "cell_type": "code",
   "execution_count": null,
   "metadata": {},
   "outputs": [],
   "source": [
    "# Methods    \n",
    "# Euler\n",
    "def E(u, Lu, deltat):\n",
    "    E = u-deltat*Lu\n",
    "    return E\n",
    "\n",
    "# TVD second order Runge-Kutta method\n",
    "def TVDu1(u, Lu, deltat):\n",
    "    TVDu1 = u+deltat*Lu\n",
    "    return TVDu1\n",
    "\n",
    "def TVD(u, Lu, L1, deltat):\n",
    "    TVD = u+(0.5)*deltat*Lu+1/2*deltat*L1\n",
    "    return TVD\n",
    "\n",
    "# non TVD Runge-Kutta method method\n",
    "def nTVDu1(u, Lu, deltat):\n",
    "    nTVDu1 = u-20*deltat*Lu\n",
    "    return nTVDu1\n",
    "\n",
    "def nTVD(u, Lu, L1, deltat):\n",
    "    nTVD = u+(41.0/40.0)*deltat*Lu-1.0/40.0*deltat*L1\n",
    "    return nTVD"
   ]
  },
  {
   "cell_type": "markdown",
   "metadata": {},
   "source": [
    "The accumulation/mass balance equations"
   ]
  },
  {
   "cell_type": "code",
   "execution_count": null,
   "metadata": {},
   "outputs": [],
   "source": [
    "#steady State\n",
    "def accumulationss(x,mdot_0,n,x_m): \n",
    "    mdot = ((n*mdot_0)/(x_m**(2.*n-1.)))*x**(n-1.)*(abs(x_m-x)**(n-1.))*(x_m-2.*x) # Eq. 54 Jarosch 2013 \n",
    "    mdot[x>x_m] = 0.\n",
    "    return mdot\n",
    "\n",
    "#Linear\n",
    "def accumulationl(heights):\n",
    "    mdot = (heights-ELA)*(mdot_grad)\n",
    "    return mdot"
   ]
  },
  {
   "cell_type": "markdown",
   "metadata": {},
   "source": [
    "Calculating the width and the volume of the glacier"
   ]
  },
  {
   "cell_type": "markdown",
   "metadata": {},
   "source": [
    "OGGM Methods"
   ]
  },
  {
   "cell_type": "code",
   "execution_count": null,
   "metadata": {},
   "outputs": [],
   "source": [
    "# define methods\n",
    "methods = []\n",
    "if use_upstream: methods = methods + [\"upstream\"]\n",
    "if use_MUSCL: methods = methods + [\"MUSCL\"]\n",
    "    \n",
    "if bed_shape == \"rectangle\": methodnames=[\"My Model \" + s+ \" Constant Bed\" for s in methods]\n",
    "if bed_shape == \"cliff\": methodnames=[\"My Model \" + s+ \" Constant Bed Cliff\" for s in methods]\n",
    "if bed_shape == \"parabolic\": methodnames=[\"My Model \" + s+ \" Parabolic Bed\" for s in methods]\n",
    "if bed_shape == \"trapezoid\": methodnames=[\"My Model \" + s+ \" Trapezoidal Bed\" for s in methods]"
   ]
  },
  {
   "cell_type": "markdown",
   "metadata": {},
   "source": [
    "Populating the Bed Matrix"
   ]
  },
  {
   "cell_type": "markdown",
   "metadata": {},
   "source": [
    "Calculating the Mass balance"
   ]
  },
  {
   "cell_type": "code",
   "execution_count": null,
   "metadata": {},
   "outputs": [],
   "source": [
    "# accumulation for m/s at each site, linear updates every year based on glacier surface elevation\n",
    "def distrib_mb(surface_h):\n",
    "    m_dot_linear = np.zeros((Ny,Nx))\n",
    "    m_dot_scalar = np.zeros((Ny,Nx))\n",
    "    m_dot_steady = np.zeros((Ny,Nx))\n",
    "        \n",
    "    if use_linear==1: \n",
    "        mb = LinearMassBalance(ELA,mdot_grad)\n",
    "        mb_linear = mb.get_annual_mb(surface_h) #m/s?\n",
    "        for yd in range(Ny):\n",
    "            for xd in range(Nx):\n",
    "                m_dot_linear[yd][xd] =  mb_linear[xd] #m/yr \n",
    "    if use_Scalar==1: \n",
    "        mb = ScalarMassBalance(mdot_con)\n",
    "        mb_scalar = mb.get_annual_mb(surface_h) #m/s\n",
    "        for yd in range(Ny):\n",
    "            for xd in range(Nx):\n",
    "                m_dot_scalar[yd][xd] = mb_scalar[xd] \n",
    "    if use_steadystate==1:\n",
    "        mdot = accumulationss(x, mdot_con, n, x_m) #m/yr \n",
    "        for yd in range(Ny):\n",
    "            for xd in range(Nx):\n",
    "                m_dot_steady[yd][xd] = mdot[xd]/SEC_IN_YEAR #m/s\n",
    "                \n",
    "    return(m_dot_linear, m_dot_scalar, m_dot_steady)"
   ]
  },
  {
   "cell_type": "markdown",
   "metadata": {},
   "source": [
    "Define the finite difference indicies"
   ]
  },
  {
   "cell_type": "code",
   "execution_count": null,
   "metadata": {},
   "outputs": [],
   "source": [
    "# finite difference index x direction down the length of the glacier\n",
    "l = np.arange(0, Nx)\n",
    "lp = np.hstack([np.arange(1,Nx),Nx-1])\n",
    "lpp = np.hstack([np.arange(2, Nx), Nx-1, Nx-1])\n",
    "lm = np.hstack([0, np.arange(0, Nx-1)])\n",
    "lmm = np.hstack([0, 0, np.arange(0, Nx-2)])\n",
    "\n",
    "# finite difference index y direction across the glacier\n",
    "k = np.arange(0, Ny)\n",
    "kp = np.hstack([np.arange(1,Ny),Ny-1])\n",
    "kpp = np.hstack([np.arange(2, Ny), Ny-1, Ny-1])\n",
    "km = np.hstack([0, np.arange(0, Ny-1)])\n",
    "kmm = np.hstack([0, 0, np.arange(0, Ny-2)])"
   ]
  },
  {
   "cell_type": "markdown",
   "metadata": {},
   "source": [
    "My actual model, the upstream version"
   ]
  },
  {
   "cell_type": "code",
   "execution_count": null,
   "metadata": {},
   "outputs": [],
   "source": [
    "#my model\n",
    "#upstream method\n",
    "def diffusion_upstream(S,B):\n",
    "    H = S-B #H = ice thickness, S = Surface height, B = bed topography  \n",
    "\n",
    "    #optimize\n",
    "    Sklp = S[k][:,lp]\n",
    "    Sklm = S[k][:,lm]\n",
    "    Skplp = S[kp][:,lp]\n",
    "    Skplm = S[kp][:,lm]\n",
    "    Skpl = S[kp][:,l]\n",
    "    Skl = S[k][:,l]\n",
    "    Skmlp = S[km][:,lp]\n",
    "    Skmlm = S[km][:,lm]\n",
    "    Skml = S[km][:,l]\n",
    "\n",
    "    #calculate l indicies\n",
    "    Hl = H[k][:,l]\n",
    "    Hlp = H[k][:,lp]\n",
    "    Hlm = H[k][:,lm]\n",
    "\n",
    "    H_l_up = H_index( Hlp , Hl )\n",
    "    H_l_down = H_index( Hl , Hlm )\n",
    "\n",
    "    # l upstream    \n",
    "    H_l_upstream_up = np.zeros((Ny,Nx))\n",
    "    H_l_upstream_up[Sklp>Skl]  = Hlp[Sklp>Skl]\n",
    "    H_l_upstream_up[Skl>=Sklp] = Hl[Skl>=Sklp]\n",
    "        \n",
    "    H_l_upstream_down = np.zeros((Ny,Nx))\n",
    "    H_l_upstream_down[Skl>Sklm]  = Hl[Skl>Sklm]\n",
    "    H_l_upstream_down[Sklm>=Skl] = Hlm[Sklm>=Skl]      \n",
    "    \n",
    "    #calculate l flux\n",
    "    f_l_plus = flux(Skpl, Skml, Skplp, Skmlp, Sklp, Skl,dx,dy)\n",
    "    f_l_min = flux(Skpl, Skml, Skplm, Skmlm, Skl, Sklm,dx,dy)\n",
    "\n",
    "    # calculate l Diffusivity\n",
    "    D_l_up = Gamma * H_l_up**(n+1) * H_l_upstream_up * f_l_plus\n",
    "    D_l_dn = Gamma * H_l_down**(n+1) * H_l_upstream_down * f_l_min\n",
    "\n",
    "    #calculate k indicies \n",
    "    Hk = H[k][:,l]\n",
    "    Hkp = H[kp][:,l]\n",
    "    Hkm = H[km][:,l]\n",
    "\n",
    "    H_k_up = H_index( Hkp , Hk )\n",
    "    H_k_down = H_index( Hk , Hkm )\n",
    "\n",
    "    # k upstream    \n",
    "    H_k_upstream_up = np.zeros((Ny,Nx))\n",
    "    H_k_upstream_up[Skpl>Skl]  = Hkp[Skpl>Skl]\n",
    "    H_k_upstream_up[Skl>=Skpl] = Hk[Skl>=Skpl]\n",
    "\n",
    "    H_k_upstream_down = np.zeros((Ny,Nx))\n",
    "    H_k_upstream_down[Skl>Skml]  = Hk[Skl>Skml]\n",
    "    H_k_upstream_down[Skml>=Skl] = Hkm[Skml>=Skl]\n",
    "\n",
    "    #calculate k flux\n",
    "    f_k_plus = flux(Sklp, Sklm, Skplp, Skplm, Skpl, Skl,dy,dx)\n",
    "    f_k_min = flux(Sklp, Sklm, Skmlp, Skmlm, Skl, Skml,dy,dx)\n",
    "\n",
    "    # calculate k Diffusivity\n",
    "    D_k_up = Gamma * H_k_up**(n+1) * H_k_upstream_up * f_k_plus\n",
    "    D_k_dn = Gamma * H_k_down**(n+1) * H_k_upstream_down * f_k_min\n",
    "\n",
    "    # calculate delta t and t\n",
    "    divisor = max(np.max(np.abs(D_k_up)), np.max(np.abs(D_k_dn)), np.max(np.abs(D_l_dn)), np.max(np.abs(D_l_dn)))\n",
    "    if divisor==0: \n",
    "        dt_cfl = max_dt\n",
    "    else:\n",
    "        dt_cfl = cfl * min(dx**2., dy**2.) / divisor\n",
    "\n",
    "    # the timestep\n",
    "    div_k = SIA(D_k_up ,Skpl ,Skl, D_k_dn, Skml, dy) #equation 36 Jarosh 2013\n",
    "    div_l = SIA(D_l_up ,Sklp ,Skl, D_l_dn, Sklm, dx) #equation 36 Jarosh 2013\n",
    "    div_q = div_k+div_l\n",
    "\n",
    "    return div_q, dt_cfl"
   ]
  },
  {
   "cell_type": "markdown",
   "metadata": {},
   "source": [
    "my Actual model the muscl version, needs to be updated to run with the current everything"
   ]
  },
  {
   "cell_type": "code",
   "execution_count": null,
   "metadata": {},
   "outputs": [],
   "source": [
    "#MUSCL Scheme \n",
    "def diffusion_MUSCL(S, B):\n",
    "    H = S-B\n",
    "           \n",
    "    Hkl = H[k][:,l]\n",
    "    Hklp = H[k][:,lp]\n",
    "    Hklpp = H[k][:,lpp]\n",
    "    Hklm = H[k][:,lm]\n",
    "    Hklmm = H[k][:,lmm]\n",
    "    Hkpl = H[kp][:,l]\n",
    "    Hkppl = H[kpp][:,l]\n",
    "    Hkml = H[km][:,l]\n",
    "    Hkmml = H[kmm][:,l]\n",
    "    \n",
    "    # at the k+1/2 index\n",
    "    #r_k_min_up = (H[k][:,l]-H[km][:,l])/(H[kp][:,l]-H[k][:,l])\n",
    "    #H_k_min_up = H[k][:,l] + 0.5 * superbee(r_k_min_up)*(H[kp][:,l] - H[k][:,l])\n",
    "    H_k_min_up = H_min(Hkml, Hkl, Hkpl)\n",
    "            \n",
    "    #r_k_plus_up = (H[kp][:,l]-H[k][:,l])/(H[kpp][:,l]-H[kp][:,l])\n",
    "    #H_k_plus_up = H[kp][:,l] - 0.5 * superbee(r_k_plus_up)*(H[kpp][:,l] - H[kp][:,l])\n",
    "    H_k_plus_up = H_plus(Hkl, Hkpl, Hkppl)     \n",
    "                \n",
    "    # at the k-1/2 index\n",
    "    #r_k_min_down = (H[km][:,l]-H[kmm][:,l])/(H[k][:,l]-H[km][:,l])\n",
    "    #H_k_min_down = H[km][:,l] + 0.5 * superbee(r_k_min_down)*(H[k][:,l] - H[km][:,l])\n",
    "    H_k_min_down = H_min(Hkmml, Hkml, Hkl)\n",
    "            \n",
    "    #r_k_plus_down = (H[k][:,l]-H[km][:,l])/(H[kp][:,l]-H[k][:,l])\n",
    "    #H_k_plus_down = H[k][:,l] - 0.5 * superbee(r_k_plus_down)*(H[kp][:,l] - H[k][:,l])\n",
    "    H_k_plus_down = H_plus(Hkml, Hkl, Hkpl)\n",
    "            \n",
    "    # at the l+1/2 index\n",
    "    #r_l_min_up = (H[k][:,l]-H[k][:,lm])/(H[k][:,lp]-H[k][:,l])\n",
    "    #H_l_min_up = H[k][:,l] + 0.5 * superbee(r_l_min_up)*(H[k][:,lp] - H[k][:,l])\n",
    "    H_l_min_up = H_min(Hklm, Hkl, Hklp)\n",
    "            \n",
    "    #r_l_plus_up = (H[k][:,lp]-H[k][:,l])/(H[k][:,lpp]-H[k][:,lp])\n",
    "    #H_l_plus_up = H[k][:,lp] - 0.5 * superbee(r_l_plus_up)*(H[k][:,lpp] - H[k][:,lp])\n",
    "    H_l_plus_up = H_plus(Hkl, Hklp, Hklpp)\n",
    "            \n",
    "                \n",
    "    # at the l-1/2 index\n",
    "    #r_l_min_down = (H[k][:,lm]-H[k][:,lmm])/(H[k][:,l]-H[k][:,lm])\n",
    "    #H_l_min_down = H[k][:,lm] + 0.5 * superbee(r_l_min_down)*(H[k][:,l] - H[k][:,lm])\n",
    "    H_l_min_down = H_min(Hklmm, Hklm, Hkl)\n",
    "            \n",
    "    #r_l_plus_down = (H[k][:,l]-H[k][:,lm])/(H[k][:,lp]-H[k][:,l])\n",
    "    #H_l_plus_down = H[k][:,l] - 0.5 * superbee(r_l_plus_down)*(H[k][:,lp] - H[k][:,l])\n",
    "    H_l_plus_down = H_plus(Hklm, Hkl, Hklp)\n",
    "            \n",
    "    Sklp = S[k][:,lp]\n",
    "    Sklm = S[k][:,lm]\n",
    "    Skplp = S[kp][:,lp]\n",
    "    Skplm = S[kp][:,lm]\n",
    "    Skpl = S[kp][:,l]\n",
    "    Skl = S[k][:,l]\n",
    "    Skmlp = S[km][:,lp]\n",
    "    Skmlm = S[km][:,lm]\n",
    "    Skml = S[km][:,l]\n",
    "                \n",
    "    f_k_plus = flux(Sklp, Sklm, Skplp, Skplm, Skpl, Skl, dy, dx)\n",
    "    f_k_min = flux(Sklp, Sklm, Skmlp, Skmlm, Skl, Skml, dy, dx)\n",
    "            \n",
    "    #calculate l flux\n",
    "    f_l_plus = flux(Skpl, Skml, Skplp, Skmlp, Sklp, Skl, dx, dy)\n",
    "    f_l_min = flux(Skpl, Skml, Skplm, Skmlm, Skl, Sklm, dx, dy)\n",
    "                \n",
    "    # calculate k Diffusivity\n",
    "    D_k_up_m = Gamma * H_k_min_up**(n+2.) * f_k_plus #Equation 30 jarosch 2013\n",
    "    D_k_up_p = Gamma * H_k_plus_up**(n+2.) * f_k_plus #Equation 30 Jarosch 2013\n",
    "    D_k_up_min = np.minimum(D_k_up_m, D_k_up_p) #equation 31 Jarosch 2013\n",
    "    D_k_up_max = np.maximum(D_k_up_m, D_k_up_p) #equation 32 Jarosch 2013\n",
    "                \n",
    "    D_k_dn_m = Gamma * H_k_min_down**(n+2) * f_k_min #Equation 30 Jarosch 2013\n",
    "    D_k_dn_p = Gamma * H_k_plus_down**(n+2) * f_k_min #Equation 30 Jarosh 2013\n",
    "    D_k_dn_min = np.minimum(D_k_dn_m, D_k_dn_p) #equation 31 Jarosch 2013\n",
    "    D_k_dn_max = np.maximum(D_k_dn_m, D_k_dn_p) #equatioon 32 Jarosch 2013\n",
    "                \n",
    "    #equation 33 jarosh 2013\n",
    "    D_k_up = np.zeros((Ny, Nx))\n",
    "            \n",
    "    D_k_up[np.logical_and(Skpl<=Skl,H_k_min_up<=H_k_plus_up)] = D_k_up_min[np.logical_and(Skpl<=Skl,H_k_min_up<=H_k_plus_up)]\n",
    "    D_k_up[np.logical_and(Skpl<=Skl,H_k_min_up>H_k_plus_up)] = D_k_up_max[np.logical_and(Skpl<=Skl,H_k_min_up>H_k_plus_up)]\n",
    "    D_k_up[np.logical_and(Skpl>Skl,H_k_min_up<=H_k_plus_up)] = D_k_up_max[np.logical_and(Skpl>Skl,H_k_min_up<=H_k_plus_up)]\n",
    "    D_k_up[np.logical_and(Skpl>Skl,H_k_min_up>H_k_plus_up)] = D_k_up_min[np.logical_and(Skpl>Skl,H_k_min_up>H_k_plus_up)]\n",
    "        \n",
    "    D_k_dn = np.zeros((Ny,Nx))\n",
    "            \n",
    "    D_k_dn[np.logical_and(Skl<=Skml,H_k_min_down<=H_k_plus_down)] = D_k_dn_min[np.logical_and(Skl<=Skml,H_k_min_down<=H_k_plus_down)]\n",
    "    D_k_dn[np.logical_and(Skl<=Skml,H_k_min_down>H_k_plus_down)] = D_k_dn_max[np.logical_and(Skl<=Skml,H_k_min_down>H_k_plus_down)]\n",
    "    D_k_dn[np.logical_and(Skl>Skml,H_k_min_down<=H_k_plus_down)] = D_k_dn_max[np.logical_and(Skl>Skml,H_k_min_down<=H_k_plus_down)]\n",
    "    D_k_dn[np.logical_and(Skl>Skml,H_k_min_down>H_k_plus_down)] = D_k_dn_min[np.logical_and(Skl>Skml,H_k_min_down>H_k_plus_down)]\n",
    "            \n",
    "    # calculate l Diffusivity\n",
    "    D_l_up_m = Gamma * H_l_min_up**(n+2.) * f_l_plus #Equation 30 Jarosch 2013\n",
    "    D_l_up_p = Gamma * H_l_plus_up**(n+2.) * f_l_plus #Equation 30 Jarosch 2013\n",
    "    D_l_up_min = np.minimum(D_l_up_m, D_l_up_p) #equation 31 Jarosch 2013\n",
    "    D_l_up_max = np.maximum(D_l_up_m, D_l_up_p) #equation 32 Jarosch 2013\n",
    "                \n",
    "    D_l_dn_m = Gamma * H_l_min_down**(n+2) * f_l_min #Equation 30 Jarosch 2013\n",
    "    D_l_dn_p = Gamma * H_l_plus_down**(n+2) * f_l_min #Equation 30 Jarosh 2013\n",
    "    D_l_dn_min = np.minimum(D_l_dn_m, D_l_dn_p) #equation 31 Jarosch 2013\n",
    "    D_l_dn_max = np.maximum(D_l_dn_m, D_l_dn_p) #equatioon 32 Jarosch 2013\n",
    "                \n",
    "    #equation 33 jarosh 2013\n",
    "    D_l_up = np.zeros((Ny, Nx))\n",
    "            \n",
    "    D_l_up[np.logical_and(Sklp<=Skl,H_l_min_up<=H_l_plus_up)] = D_l_up_min[np.logical_and(Sklp<=Skl,H_l_min_up<=H_l_plus_up)]\n",
    "    D_l_up[np.logical_and(Sklp<=Skl,H_l_min_up>H_l_plus_up)] = D_l_up_max[np.logical_and(Sklp<=Skl,H_l_min_up>H_l_plus_up)]\n",
    "    D_l_up[np.logical_and(Sklp>Skl,H_l_min_up<=H_l_plus_up)] = D_l_up_max[np.logical_and(Sklp>Skl,H_l_min_up<=H_l_plus_up)]\n",
    "    D_l_up[np.logical_and(Sklp>Skl,H_l_min_up>H_l_plus_up)] = D_l_up_min[np.logical_and(Sklp>Skl,H_l_min_up>H_l_plus_up)]\n",
    "        \n",
    "    D_l_dn = np.zeros((Ny,Nx))\n",
    "            \n",
    "    D_l_dn[np.logical_and(Skl<=Sklm,H_l_min_down<=H_l_plus_down)] = D_l_dn_min[np.logical_and(Skl<=Sklm,H_l_min_down<=H_l_plus_down)]\n",
    "    D_l_dn[np.logical_and(Skl<=Sklm,H_l_min_down>H_l_plus_down)] = D_l_dn_max[np.logical_and(Skl<=Sklm,H_l_min_down>H_l_plus_down)]\n",
    "    D_l_dn[np.logical_and(Skl>Sklm,H_l_min_down<=H_l_plus_down)] = D_l_dn_max[np.logical_and(Skl>Sklm,H_l_min_down<=H_l_plus_down)]\n",
    "    D_l_dn[np.logical_and(Skl>Sklm,H_l_min_down>H_l_plus_down)] = D_l_dn_min[np.logical_and(Skl>Sklm,H_l_min_down>H_l_plus_down)]\n",
    "                \n",
    "    # calculate delta t and stab_t\n",
    "    divisor = max(np.max(np.abs(D_k_up)), np.max(np.abs(D_k_dn)), np.max(np.abs(D_l_dn)), np.max(np.abs(D_l_dn)))\n",
    "    if divisor==0: \n",
    "        dt_cfl = max_dt\n",
    "    else:\n",
    "        dt_cfl = cfl * min(dx**2., dy**2.) / divisor\n",
    "            \n",
    "            \n",
    "    # the time step\n",
    "    div_k = SIA(D_k_up,Skpl, Skl, D_k_dn, Skml, dy) #equation 36 Jarosh 2013\n",
    "    div_l = SIA(D_l_up,Sklp, Skl, D_l_dn, Sklm, dx) #equation 36 Jarosh 2013\n",
    "    div_q = div_k+div_l\n",
    "\n",
    "    return(div_q, dt_cfl)"
   ]
  },
  {
   "cell_type": "markdown",
   "metadata": {},
   "source": [
    "The code to make the MUSCL and UPSTREAM code take a step"
   ]
  },
  {
   "cell_type": "code",
   "execution_count": null,
   "metadata": {},
   "outputs": [],
   "source": [
    "def step(S,B,m_dot,dt,t, method):\n",
    "    \"\"\"Advance one step.\"\"\"\n",
    "\n",
    "    if (method==\"MUSCL\"): div_q, dt_cfl = diffusion_MUSCL(S,B)\n",
    "    if (method==\"upstream\"): div_q, dt_cfl = diffusion_upstream(S,B)\n",
    "        \n",
    "    deltat = min(dt_cfl,dt)\n",
    "    if deltat > max_dt: deltat = max_dt  \n",
    "    #if deltat < fixed_dt_use: deltat = fixed_dt_use\n",
    "\n",
    "    Skl = S[k][:,l]\n",
    "    S= Skl + (m_dot+div_q)*deltat #equation 35 Jarosh 2013, m_dot should be in seconds since times deltat\n",
    "    S = np.maximum(S,B) #does not seem like we should need this\n",
    "\n",
    "    # Next step\n",
    "    next_t = t + deltat\n",
    "\n",
    "    return next_t, S"
   ]
  },
  {
   "cell_type": "code",
   "execution_count": null,
   "metadata": {},
   "outputs": [],
   "source": [
    "#upstream method\n",
    "def year(y_end,S,B,m_dot,t, method):\n",
    "    \"\"\"Run until a selected year.\"\"\"\n",
    "    t_total = (y_end - yr_start) * SEC_IN_YEAR\n",
    "    while t<t_total:\n",
    "        dt = t_total-t\n",
    "        t, S = step(S,B,m_dot,dt,t,method)\n",
    "            \n",
    "    flowlineSurf = S[Mny]\n",
    "    width = width_m(S[Mny]-B[Mny])\n",
    "    Dif = np.nonzero(S[Mny]-B[Mny])        \n",
    "    length=x[Dif[0][-1]]+dx/2\n",
    "    volume=volume_km3(S-B)\n",
    "\n",
    "    return(S, t, length, volume, flowlineSurf, width)"
   ]
  },
  {
   "cell_type": "code",
   "execution_count": null,
   "metadata": {},
   "outputs": [],
   "source": [
    "def run_mymodel(yrs,S0,B,mb0,t0,elev_mb, methods):\n",
    "    lens = []\n",
    "    surface_h = []\n",
    "    volume = []\n",
    "    widths = []\n",
    "    \n",
    "    for method in methods: \n",
    "        S = S0\n",
    "        mb = mb0  \n",
    "        t = t0\n",
    "        print(method)\n",
    " \n",
    "        length = yrs * 0.\n",
    "        vol = yrs * 0.\n",
    "        surf_h = bed_h\n",
    "        for i, y in enumerate(yrs):\n",
    "            if elev_mb==1: mb, dont_use1, dont_use2 = distrib_mb(surf_h) #linear mb changes every year off surface height\n",
    "            S, t, length[i], vol[i], surf_h, wid =  year(y,S,B,mb,t, method)\n",
    "        lens.append(length)\n",
    "        volume.append(vol)\n",
    "        widths.append(wid)\n",
    "        surface_h.append(surf_h)\n",
    "        \n",
    "    return(lens, volume, surface_h, widths)"
   ]
  },
  {
   "cell_type": "code",
   "execution_count": null,
   "metadata": {},
   "outputs": [],
   "source": [
    "#initialize mb, units of m/s\n",
    "m_dot_linear, m_dot_scalar, m_dot_steady = distrib_mb(bed_h)\n",
    "\n",
    "#run\n",
    "if use_Scalar==1: \n",
    "    file = 'mymodel_bed_scalar' #to save\n",
    "    lens1, volume1, surface_h1, widths1 = run_mymodel(yrs,B,B,m_dot_scalar,0.,0, methods)\n",
    "    np.savez(file, lens=lens1,volume=volume1,surface_h=surface_h1,widths=widths1,bed_h=bed_h1)\n",
    "if use_linear==1: \n",
    "    file = 'mymodel_bed_linear' #to save\n",
    "    lens1, volume1, surface_h1, widths1 = run_mymodel(yrs,B,B,m_dot_linear,0.,1, methods)\n",
    "    np.savez(file, lens=lens1,volume=volume1,surface_h=surface_h1,widths=widths1,bed_h=bed_h1)"
   ]
  },
  {
   "cell_type": "code",
   "execution_count": null,
   "metadata": {},
   "outputs": [],
   "source": [
    "#load and plot models, should fix so doesn't try to plot if didn't run\n",
    "plot_mymodel = 1 #plot model if 1, can turn off if skewing plots because so off\n",
    "\n",
    "for j in 1,2:\n",
    "\n",
    "    if j == 1 :\n",
    "        npzfile=np.load(\"test_bed_linear.npz\")\n",
    "        mm_npzfile=np.load(\"mymodel_bed_linear.npz\")\n",
    "        mbname = \" Linear MB\"\n",
    "    if j == 2:\n",
    "        npzfile=np.load(\"test_bed_scalar.npz\")\n",
    "        mm_npzfile=np.load(\"mymodel_bed_scalar.npz\")\n",
    "        mbname = \" Scalar MB\"\n",
    "        \n",
    "    lens, volumes, surface_h, widths, bed_h = npzfile['lens'],npzfile['volume'],npzfile['surface_h'],npzfile['widths'],npzfile['bed_h']\n",
    "    length, volume, SurfaceElevation, width, bed_hh = mm_npzfile['lens'],mm_npzfile['volume'],mm_npzfile['surface_h'],mm_npzfile['widths'],mm_npzfile['bed_h']\n",
    "    fig = plt.figure(figsize=(22,7))\n",
    "    \n",
    "    ax1 = fig.add_subplot(1,4,1)\n",
    "    for i, array in enumerate(lens):\n",
    "        ax1.plot(yrs, array, label = 'OGGM')\n",
    "    if plot_mymodel==1: \n",
    "        for i, array in enumerate(length):\n",
    "            ax1.plot(yrs, array, label = methodnames[i])    \n",
    "    ax1.set_xlabel('Years of Model Run')\n",
    "    ax1.set_ylabel('Glacier Length (m)')\n",
    "    ax1.legend()\n",
    "    ax1.set_title(mbname + \" Time Evolution\")\n",
    "\n",
    "    ax2 = fig.add_subplot(1,4,2)\n",
    "    for i, array in enumerate(volumes):\n",
    "        ax2.plot(yrs, array, label = 'OGGM')\n",
    "    if plot_mymodel==1: \n",
    "        for i, array in enumerate(volume):\n",
    "            ax2.plot(yrs, array, label = methodnames[i])\n",
    "    ax2.set_xlabel('Years of Model Run')\n",
    "    ax2.set_ylabel('Glacier Volume (km3)')\n",
    "    ax2.legend()\n",
    "    ax2.set_title(mbname + \" Time Evolution\")\n",
    "    \n",
    "    ax3 = fig.add_subplot(1,4,3)\n",
    "    for i, array in enumerate(surface_h):\n",
    "        ax3.plot(dist, array, label = 'OGGM')\n",
    "    if plot_mymodel==1: \n",
    "        for i, array in enumerate(SurfaceElevation):\n",
    "            ax3.plot(dist, array, label = methodnames[i])\n",
    "    ax3.plot(dist,bed_h, 'k',label = \"Bed Elevation\",)\n",
    "    ax3.set_xlabel('Distance from Glacier Head (m)')\n",
    "    ax3.set_ylabel('Elevation (m)')\n",
    "    ax3.legend()\n",
    "    ax3.set_title(mbname + \" Surface \"+str(yrs[-1])+\" Years\")\n",
    "\n",
    "    ax4 = fig.add_subplot(1,4,4)\n",
    "    for i, array in enumerate(widths):\n",
    "        ax4.plot(dist, array, label = 'OGGM')\n",
    "    if plot_mymodel==1: \n",
    "        for i, array in enumerate(width):\n",
    "            ax4.plot(dist, array, label = methodnames[i])\n",
    "    ax4.set_xlabel('Distance from Glacier Head (m)')\n",
    "    ax4.set_ylabel('Width (m)')\n",
    "    ax4.legend()\n",
    "    ax4.set_title(mbname + \" Surface \"+str(yrs[-1])+\" Years\")\n",
    "    \n",
    "    plt.savefig(mbname[0:7] +str(yrs[-1])+ \"_Years.png\", bbox_inches='tight')\n",
    "    \n",
    "   # print(surface_h-SurfaceElevation)"
   ]
  },
  {
   "cell_type": "code",
   "execution_count": null,
   "metadata": {},
   "outputs": [],
   "source": [
    "plt.plot((volumes-volume)[0])"
   ]
  },
  {
   "cell_type": "code",
   "execution_count": null,
   "metadata": {},
   "outputs": [],
   "source": []
  },
  {
   "cell_type": "code",
   "execution_count": null,
   "metadata": {},
   "outputs": [],
   "source": []
  }
 ],
 "metadata": {
  "hide_input": false,
  "kernelspec": {
   "display_name": "oggm_env",
   "language": "python",
   "name": "oggm_env"
  },
  "language_info": {
   "codemirror_mode": {
    "name": "ipython",
    "version": 3
   },
   "file_extension": ".py",
   "mimetype": "text/x-python",
   "name": "python",
   "nbconvert_exporter": "python",
   "pygments_lexer": "ipython3",
   "version": "3.8.12"
  },
  "latex_envs": {
   "LaTeX_envs_menu_present": true,
   "autoclose": false,
   "autocomplete": true,
   "bibliofile": "biblio.bib",
   "cite_by": "apalike",
   "current_citInitial": 1,
   "eqLabelWithNumbers": true,
   "eqNumInitial": 1,
   "hotkeys": {
    "equation": "Ctrl-E",
    "itemize": "Ctrl-I"
   },
   "labels_anchors": false,
   "latex_user_defs": false,
   "report_style_numbering": false,
   "user_envs_cfg": false
  },
  "nbTranslate": {
   "displayLangs": [
    "*"
   ],
   "hotkey": "alt-t",
   "langInMainMenu": true,
   "sourceLang": "en",
   "targetLang": "fr",
   "useGoogleTranslate": true
  },
  "toc": {
   "base_numbering": 1,
   "nav_menu": {},
   "number_sections": false,
   "sideBar": true,
   "skip_h1_title": true,
   "title_cell": "Table of Contents",
   "title_sidebar": "Contents",
   "toc_cell": false,
   "toc_position": {},
   "toc_section_display": true,
   "toc_window_display": false
  }
 },
 "nbformat": 4,
 "nbformat_minor": 4
}
